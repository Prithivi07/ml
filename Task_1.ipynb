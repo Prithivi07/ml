{
  "nbformat": 4,
  "nbformat_minor": 5,
  "metadata": {
    "colab": {
      "name": "Task-1.ipynb",
      "provenance": [],
      "include_colab_link": true
    },
    "kernelspec": {
      "display_name": "Python 3",
      "language": "python",
      "name": "python3"
    },
    "language_info": {
      "codemirror_mode": {
        "name": "ipython",
        "version": 3
      },
      "file_extension": ".py",
      "mimetype": "text/x-python",
      "name": "python",
      "nbconvert_exporter": "python",
      "pygments_lexer": "ipython3",
      "version": "3.8.8"
    }
  },
  "cells": [
    {
      "cell_type": "markdown",
      "metadata": {
        "id": "view-in-github",
        "colab_type": "text"
      },
      "source": [
        "<a href=\"https://colab.research.google.com/github/Prithivi07/ml/blob/main/Task_1.ipynb\" target=\"_parent\"><img src=\"https://colab.research.google.com/assets/colab-badge.svg\" alt=\"Open In Colab\"/></a>"
      ]
    },
    {
      "cell_type": "markdown",
      "metadata": {
        "id": "5808496a"
      },
      "source": [
        "# Data Science and Business Analytics"
      ],
      "id": "5808496a"
    },
    {
      "cell_type": "markdown",
      "metadata": {
        "id": "228c8ccc"
      },
      "source": [
        "# Task 1"
      ],
      "id": "228c8ccc"
    },
    {
      "cell_type": "markdown",
      "metadata": {
        "id": "4441e9f2"
      },
      "source": [
        "## N PRITHIVI RAJAN"
      ],
      "id": "4441e9f2"
    },
    {
      "cell_type": "markdown",
      "metadata": {
        "id": "6451e952"
      },
      "source": [
        "# Importing required libraries"
      ],
      "id": "6451e952"
    },
    {
      "cell_type": "code",
      "metadata": {
        "id": "eebeef56"
      },
      "source": [
        "import numpy as np\n",
        "import time\n",
        "import pandas as pd\n",
        "import matplotlib.pyplot as plt\n",
        "plt.style.use(['seaborn-dark-palette','dark_background'])\n",
        "import warnings\n",
        "warnings.filterwarnings(action = 'ignore')"
      ],
      "id": "eebeef56",
      "execution_count": 1,
      "outputs": []
    },
    {
      "cell_type": "markdown",
      "metadata": {
        "id": "8245a1e0"
      },
      "source": [
        "# Importing the dataset"
      ],
      "id": "8245a1e0"
    },
    {
      "cell_type": "code",
      "metadata": {
        "colab": {
          "base_uri": "https://localhost:8080/",
          "height": 204
        },
        "id": "cfcbf427",
        "outputId": "395bda8f-1d71-4fd7-974b-d6fcbcf08542"
      },
      "source": [
        "data1 = pd.read_csv(\"http://bit.ly/w-data\")\n",
        "\n",
        "data1.head()"
      ],
      "id": "cfcbf427",
      "execution_count": 2,
      "outputs": [
        {
          "output_type": "execute_result",
          "data": {
            "text/html": [
              "<div>\n",
              "<style scoped>\n",
              "    .dataframe tbody tr th:only-of-type {\n",
              "        vertical-align: middle;\n",
              "    }\n",
              "\n",
              "    .dataframe tbody tr th {\n",
              "        vertical-align: top;\n",
              "    }\n",
              "\n",
              "    .dataframe thead th {\n",
              "        text-align: right;\n",
              "    }\n",
              "</style>\n",
              "<table border=\"1\" class=\"dataframe\">\n",
              "  <thead>\n",
              "    <tr style=\"text-align: right;\">\n",
              "      <th></th>\n",
              "      <th>Hours</th>\n",
              "      <th>Scores</th>\n",
              "    </tr>\n",
              "  </thead>\n",
              "  <tbody>\n",
              "    <tr>\n",
              "      <th>0</th>\n",
              "      <td>2.5</td>\n",
              "      <td>21</td>\n",
              "    </tr>\n",
              "    <tr>\n",
              "      <th>1</th>\n",
              "      <td>5.1</td>\n",
              "      <td>47</td>\n",
              "    </tr>\n",
              "    <tr>\n",
              "      <th>2</th>\n",
              "      <td>3.2</td>\n",
              "      <td>27</td>\n",
              "    </tr>\n",
              "    <tr>\n",
              "      <th>3</th>\n",
              "      <td>8.5</td>\n",
              "      <td>75</td>\n",
              "    </tr>\n",
              "    <tr>\n",
              "      <th>4</th>\n",
              "      <td>3.5</td>\n",
              "      <td>30</td>\n",
              "    </tr>\n",
              "  </tbody>\n",
              "</table>\n",
              "</div>"
            ],
            "text/plain": [
              "   Hours  Scores\n",
              "0    2.5      21\n",
              "1    5.1      47\n",
              "2    3.2      27\n",
              "3    8.5      75\n",
              "4    3.5      30"
            ]
          },
          "metadata": {},
          "execution_count": 2
        }
      ]
    },
    {
      "cell_type": "code",
      "metadata": {
        "colab": {
          "base_uri": "https://localhost:8080/"
        },
        "id": "dda2a59e",
        "outputId": "edbcfeca-27ce-4e4b-bac2-d833853d0579"
      },
      "source": [
        "y = data1['Scores'].values\n",
        "x = data1['Hours'].values\n",
        "x.shape,y.shape"
      ],
      "id": "dda2a59e",
      "execution_count": 3,
      "outputs": [
        {
          "output_type": "execute_result",
          "data": {
            "text/plain": [
              "((25,), (25,))"
            ]
          },
          "metadata": {},
          "execution_count": 3
        }
      ]
    },
    {
      "cell_type": "markdown",
      "metadata": {
        "id": "356cdebc"
      },
      "source": [
        "# Plotting of the dataset"
      ],
      "id": "356cdebc"
    },
    {
      "cell_type": "code",
      "metadata": {
        "id": "15e29926",
        "scrolled": false,
        "colab": {
          "base_uri": "https://localhost:8080/",
          "height": 295
        },
        "outputId": "c711c306-14b5-4958-b29d-4531021f90ed"
      },
      "source": [
        "plt.figure()\n",
        "plt.scatter(x,y,color = 'blue')\n",
        "plt.xlabel('hours')\n",
        "plt.ylabel('Score')\n",
        "plt.title('Hour/score')\n",
        "plt.show()"
      ],
      "id": "15e29926",
      "execution_count": 4,
      "outputs": [
        {
          "output_type": "display_data",
          "data": {
            "image/png": "[encoded data removed]",
            "text/plain": [
              "<Figure size 432x288 with 1 Axes>"
            ]
          },
          "metadata": {
            "needs_background": "dark"
          }
        }
      ]
    },
    {
      "cell_type": "markdown",
      "metadata": {
        "id": "a0f7c072"
      },
      "source": [
        "# Train and Test set partition"
      ],
      "id": "a0f7c072"
    },
    {
      "cell_type": "code",
      "metadata": {
        "id": "320a699a",
        "colab": {
          "base_uri": "https://localhost:8080/"
        },
        "outputId": "6f2b2ed7-8d26-4c04-a075-bc1c041a856e"
      },
      "source": [
        "x = x.reshape(25,1)\n",
        "\n",
        "from sklearn.model_selection import  train_test_split as tts\n",
        "x_train , x_test , y_train , y_test = tts( x , y , test_size = 0.3 , random_state = 101)\n",
        "\n",
        "x_train.shape,x_test.shape,y_train.shape,y_test.shape"
      ],
      "id": "320a699a",
      "execution_count": 5,
      "outputs": [
        {
          "output_type": "execute_result",
          "data": {
            "text/plain": [
              "((17, 1), (8, 1), (17,), (8,))"
            ]
          },
          "metadata": {},
          "execution_count": 5
        }
      ]
    },
    {
      "cell_type": "markdown",
      "metadata": {
        "id": "f3636838"
      },
      "source": [
        "# Fitting the model to the dataset"
      ],
      "id": "f3636838"
    },
    {
      "cell_type": "code",
      "metadata": {
        "id": "d31f4d00",
        "colab": {
          "base_uri": "https://localhost:8080/"
        },
        "outputId": "b69c602a-61cb-42b3-dfa6-bedc193290c8"
      },
      "source": [
        "from sklearn.linear_model import LinearRegression\n",
        "lr = LinearRegression(normalize = True)\n",
        "lr.fit(x_train,y_train)"
      ],
      "id": "d31f4d00",
      "execution_count": 6,
      "outputs": [
        {
          "output_type": "execute_result",
          "data": {
            "text/plain": [
              "LinearRegression(copy_X=True, fit_intercept=True, n_jobs=None, normalize=True)"
            ]
          },
          "metadata": {},
          "execution_count": 6
        }
      ]
    },
    {
      "cell_type": "markdown",
      "metadata": {
        "id": "772e9c59"
      },
      "source": [
        "# Plotting the values of prediction"
      ],
      "id": "772e9c59"
    },
    {
      "cell_type": "code",
      "metadata": {
        "id": "1c5da79b",
        "colab": {
          "base_uri": "https://localhost:8080/",
          "height": 265
        },
        "outputId": "00be8d0d-52c0-4670-fca3-9d2956d7481a"
      },
      "source": [
        "pred = x*lr.coef_ + lr.intercept_\n",
        "plt.scatter(x, y)\n",
        "plt.plot(x,pred,color = 'red');\n",
        "plt.show()"
      ],
      "id": "1c5da79b",
      "execution_count": 7,
      "outputs": [
        {
          "output_type": "display_data",
          "data": {
            "image/png": "[encoded data removed]",
            "text/plain": [
              "<Figure size 432x288 with 1 Axes>"
            ]
          },
          "metadata": {
            "needs_background": "dark"
          }
        }
      ]
    },
    {
      "cell_type": "markdown",
      "metadata": {
        "id": "f03858ff"
      },
      "source": [
        "# Predicting for Test set and ploting the graph"
      ],
      "id": "f03858ff"
    },
    {
      "cell_type": "code",
      "metadata": {
        "id": "8b211766",
        "colab": {
          "base_uri": "https://localhost:8080/",
          "height": 295
        },
        "outputId": "04bea3a4-322e-451d-cc16-67f3adfc3775"
      },
      "source": [
        "y_pred = lr.predict(x_test)\n",
        "\n",
        "plt.scatter(x_test, y_test, color = 'green')\n",
        "plt.plot(x_test,y_pred, color = 'blue')\n",
        "plt.title('Hours vs. Percentage (Test set)')\n",
        "plt.xlabel('Hours studied')\n",
        "plt.ylabel('Percentage of marks')\n",
        "plt.show()"
      ],
      "id": "8b211766",
      "execution_count": 8,
      "outputs": [
        {
          "output_type": "display_data",
          "data": {
            "image/png": "[encoded data removed]",
            "text/plain": [
              "<Figure size 432x288 with 1 Axes>"
            ]
          },
          "metadata": {
            "needs_background": "dark"
          }
        }
      ]
    },
    {
      "cell_type": "code",
      "metadata": {
        "id": "b703a5fe",
        "colab": {
          "base_uri": "https://localhost:8080/",
          "height": 297
        },
        "outputId": "3106f5c9-6eba-42ec-d44b-eb127244b58d"
      },
      "source": [
        "test = pd.DataFrame({'Actual':y_test,'Predicted':y_pred})\n",
        "test"
      ],
      "id": "b703a5fe",
      "execution_count": 9,
      "outputs": [
        {
          "output_type": "execute_result",
          "data": {
            "text/html": [
              "<div>\n",
              "<style scoped>\n",
              "    .dataframe tbody tr th:only-of-type {\n",
              "        vertical-align: middle;\n",
              "    }\n",
              "\n",
              "    .dataframe tbody tr th {\n",
              "        vertical-align: top;\n",
              "    }\n",
              "\n",
              "    .dataframe thead th {\n",
              "        text-align: right;\n",
              "    }\n",
              "</style>\n",
              "<table border=\"1\" class=\"dataframe\">\n",
              "  <thead>\n",
              "    <tr style=\"text-align: right;\">\n",
              "      <th></th>\n",
              "      <th>Actual</th>\n",
              "      <th>Predicted</th>\n",
              "    </tr>\n",
              "  </thead>\n",
              "  <tbody>\n",
              "    <tr>\n",
              "      <th>0</th>\n",
              "      <td>30</td>\n",
              "      <td>27.018782</td>\n",
              "    </tr>\n",
              "    <tr>\n",
              "      <th>1</th>\n",
              "      <td>85</td>\n",
              "      <td>78.844662</td>\n",
              "    </tr>\n",
              "    <tr>\n",
              "      <th>2</th>\n",
              "      <td>35</td>\n",
              "      <td>39.975252</td>\n",
              "    </tr>\n",
              "    <tr>\n",
              "      <th>3</th>\n",
              "      <td>69</td>\n",
              "      <td>75.854708</td>\n",
              "    </tr>\n",
              "    <tr>\n",
              "      <th>4</th>\n",
              "      <td>60</td>\n",
              "      <td>56.918328</td>\n",
              "    </tr>\n",
              "    <tr>\n",
              "      <th>5</th>\n",
              "      <td>54</td>\n",
              "      <td>49.941767</td>\n",
              "    </tr>\n",
              "    <tr>\n",
              "      <th>6</th>\n",
              "      <td>27</td>\n",
              "      <td>33.995343</td>\n",
              "    </tr>\n",
              "    <tr>\n",
              "      <th>7</th>\n",
              "      <td>75</td>\n",
              "      <td>86.817875</td>\n",
              "    </tr>\n",
              "  </tbody>\n",
              "</table>\n",
              "</div>"
            ],
            "text/plain": [
              "   Actual  Predicted\n",
              "0      30  27.018782\n",
              "1      85  78.844662\n",
              "2      35  39.975252\n",
              "3      69  75.854708\n",
              "4      60  56.918328\n",
              "5      54  49.941767\n",
              "6      27  33.995343\n",
              "7      75  86.817875"
            ]
          },
          "metadata": {},
          "execution_count": 9
        }
      ]
    },
    {
      "cell_type": "markdown",
      "metadata": {
        "id": "add9bbca"
      },
      "source": [
        "# Predicting the score"
      ],
      "id": "add9bbca"
    },
    {
      "cell_type": "code",
      "metadata": {
        "id": "92443381",
        "colab": {
          "base_uri": "https://localhost:8080/"
        },
        "outputId": "f2450325-1f6c-4d22-eff8-a2a877020248"
      },
      "source": [
        "a = np.array(9.25)\n",
        "\n",
        "a= a.reshape(-1,1)\n",
        "\n",
        "pred = lr.predict(a)\n",
        "print(pred)"
      ],
      "id": "92443381",
      "execution_count": 10,
      "outputs": [
        {
          "output_type": "stream",
          "name": "stdout",
          "text": [
            "[94.29276126]\n"
          ]
        }
      ]
    },
    {
      "cell_type": "markdown",
      "metadata": {
        "id": "e1d580e1"
      },
      "source": [
        "# Measuring Error in Model"
      ],
      "id": "e1d580e1"
    },
    {
      "cell_type": "code",
      "metadata": {
        "id": "ddbfaf23",
        "colab": {
          "base_uri": "https://localhost:8080/"
        },
        "outputId": "ab453ee6-2ab9-4eef-c198-24a1d8ff1145"
      },
      "source": [
        "from sklearn import metrics  \n",
        "print('Mean Absolute Error:', metrics.mean_absolute_error(y_test, y_pred))"
      ],
      "id": "ddbfaf23",
      "execution_count": 11,
      "outputs": [
        {
          "output_type": "stream",
          "name": "stdout",
          "text": [
            "Mean Absolute Error: 5.864954643694254\n"
          ]
        }
      ]
    },
    {
      "cell_type": "code",
      "metadata": {
        "id": "8d10b1f9",
        "colab": {
          "base_uri": "https://localhost:8080/"
        },
        "outputId": "724aaf5c-de2f-4630-ed93-29ab0222354a"
      },
      "source": [
        "from sklearn.metrics import r2_score\n",
        "print(\"The R-Square of the model is: \",r2_score(y_test,y_pred))"
      ],
      "id": "8d10b1f9",
      "execution_count": 12,
      "outputs": [
        {
          "output_type": "stream",
          "name": "stdout",
          "text": [
            "The R-Square of the model is:  0.8999124290533056\n"
          ]
        }
      ]
    }
  ]
}